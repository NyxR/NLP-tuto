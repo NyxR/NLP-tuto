{
 "cells": [
  {
   "cell_type": "markdown",
   "metadata": {},
   "source": [
    "### Read the dataset"
   ]
  },
  {
   "cell_type": "markdown",
   "metadata": {},
   "source": [
    "import field"
   ]
  },
  {
   "cell_type": "code",
   "execution_count": 1,
   "metadata": {},
   "outputs": [],
   "source": [
    "import pandas as pd\n",
    "import numpy as np"
   ]
  },
  {
   "cell_type": "markdown",
   "metadata": {},
   "source": [
    "#### Dataset (\"Appel Contactel\") redifine"
   ]
  },
  {
   "cell_type": "code",
   "execution_count": 2,
   "metadata": {},
   "outputs": [
    {
     "name": "stdout",
     "output_type": "stream",
     "text": [
      "  ticket-label                                     ticket-content  \\\n",
      "0  Not_defined  Elle n arrive pas à allumer son ordinateur à d...   \n",
      "1  Not_defined  APPELANT\\n    Client : SEFRECO\\n    Nom : BEYE...   \n",
      "2  Not_defined  APPELANT\\n     Client : ASSOCIATION MEDICALE I...   \n",
      "3  Not_defined  Bonjour,\\n          \\n            Appel concer...   \n",
      "4  Not_defined  Bonjour,\\n    \\n   Appel concernant un problèm...   \n",
      "5  Not_defined  Bonjour,\\n      \\n   Mr MIGEOT a appelé cet ap...   \n",
      "6  Not_defined  APPELANT\\n    Client : SEFRECO\\n        \\n    ...   \n",
      "7  Not_defined  APPELANT\\n     Client : LA COMPAGNIE DU SAV \\n...   \n",
      "8  Not_defined  APPELANT\\n       Client : SEFRECO\\n       Nom ...   \n",
      "9  Not_defined   \\n   \\n APPELANT\\n   \\n Client : SEFRECO\\n   ...   \n",
      "\n",
      "   ticket-owner  \n",
      "0     1-SUPPORT  \n",
      "1  2-SUPPORT N2  \n",
      "2     1-SUPPORT  \n",
      "3     1-SUPPORT  \n",
      "4  2-SUPPORT N2  \n",
      "5  2-SUPPORT N2  \n",
      "6  2-SUPPORT N2  \n",
      "7  2-SUPPORT N2  \n",
      "8     1-SUPPORT  \n",
      "9  2-SUPPORT N2  \n"
     ]
    }
   ],
   "source": [
    "#load the excel sheet\n",
    "df = pd.read_excel(\"../data/data.xlsx\")\n",
    "\n",
    "#create new dataframe and select the need columns from the excel\n",
    "data = pd.DataFrame()\n",
    "data[\"ticket-label\"] = \"\"\n",
    "data[[\"ticket-content\", \"ticket-owner\"]] = df[[\"Description\", \"Traitement - Équipe\"]]\n",
    "data[\"ticket-label\"].fillna(\"Not_defined\", inplace=True)\n",
    "print(data.head(10))"
   ]
  },
  {
   "cell_type": "markdown",
   "metadata": {},
   "source": [
    "#### Clean the dataset[\"ticket-content\"]"
   ]
  },
  {
   "cell_type": "code",
   "execution_count": 3,
   "metadata": {},
   "outputs": [],
   "source": [
    "import spacy\n",
    "import re\n",
    "import string\n",
    "import inflect\n",
    "from collections import Counter\n",
    "import unicodedata"
   ]
  },
  {
   "cell_type": "code",
   "execution_count": 4,
   "metadata": {},
   "outputs": [
    {
     "name": "stdout",
     "output_type": "stream",
     "text": [
      "{'miennes', 'assez', 'avons', 'hi', 'faisaient', 'suivants', \"n'\", 'différente', 'lesquels', 'voici', 'ha', 'meme', 'précisement', 'hors', 'premièrement', 'laisser', 'soi-même', 'm’', 'façon', 'suffit', 'vais', 'dix-sept', 'delà', 'devers', 'touchant', 'fais', 'notre', 'specifique', 'plusieurs', 'devra', 'juste', 'avais', 'mienne', 'treize', 'parler', 'lorsque', 'font', 'revoici', 'suivre', 'aura', 'spécifique', 'quant-à-soi', 'quinze', 'divers', 'antérieures', 'aupres', 'dont', 'moindres', 'à', 'longtemps', 'seize', 'derrière', 'peut', 'â', 'rend', 'nul', 'quand', 'ça', 'directe', 'avaient', \"c'\", 'o', 'dejà', 'eux', 'plutôt', 'ceux', 'deuxième', 'chacun', 'bat', 'différents', 'ouverts', 'effet', 'étaient', 'seule', 'sienne', 'toi-même', 'sous', 'tend', 'moi-même', 'personne', 'quatre-vingt', 'cinquième', 'quant', 'peu', 'ont', 'deux', 'tout', 'étant', 'antérieur', 'vas', 'desquelles', 'nouveau', 'entre', 'un', 'aie', 'suit', 'tien', 'sur', 'seraient', 't’', 'onze', 'celle', 'quoi', 'elle', 'abord', 'directement', 'dix', 'dix-huit', 'dixième', 'attendu', 'telles', 'permet', 'dix-neuf', 'ô', 'lequel', 'a', 'voilà', 'celui', 'laquelle', 'tous', 'une', 'ouverte', 'jusqu', 'ainsi', 'precisement', 'nombreuses', 'etre', 'alors', 'dire', 'etaient', 'possibles', 'ou', 'vé', \"quelqu'un\", 'elles', 'différentes', 'siennes', 'soit', 'desquels', 'moi-meme', 'ait', 'auront', 'autrement', 'maintenant', 'siens', 'on', 'quel', 'ah', 'quelles', 'le', 'vôtre', 'houp', 'memes', 'auraient', 'quatorze', 'sont', 'lesquelles', 'toi-meme', 'où', 'huit', 'neanmoins', 'six', 'nous-mêmes', 'environ', 'parfois', \"s'\", 'l’', 'fait', 'et', 'eh', 'chaque', 'partant', 'parlent', 'se', 'basee', 'anterieur', 'nos', 'puis', \"m'\", 'celles-la', 'avec', 'autre', 'n’', 'septième', 'ai', 'elle-meme', 'semble', 'quarante', 'soi-meme', 'specifiques', 'ne', 'certains', 'doit', 'hou', 'celles', 'celle-la', 'dehors', 'importe', 'lès', 'dessus', 'or', 'car', 'dessous', 'notamment', 'lui-même', 'sept', 'je', 'elles-memes', 'votre', 'ayant', 'ils', 'leurs', 'aurait', 'possible', 'seules', 'cinquantième', 'sien', 'pense', 'sinon', 'y', 'cela', 'differentes', 'était', 'bas', 'ces', 'semblable', 'tes', 'néanmoins', 'exactement', 'devant', 'gens', 'ce', 'd’', 'toujours', 'très', 'cinq', 'etant', 'neuvième', 'son', 'auxquelles', 'troisièmement', 'premier', 'avait', 'ma', 'derriere', 'première', 'spécifiques', 'dedans', 'sixième', 'vous', 'quatrièmement', 'etc', 'elles-mêmes', 'chacune', 'dit', 'pourquoi', 'ta', 'tu', 'anterieure', 'mes', 'pour', 'j’', 'il', 'diverse', 'de', 'aux', 'mien', 'procedant', 'hue', 'les', 'vôtres', 'faisant', 'du', 'mon', 'seront', 'excepté', 'celle-là', 'etais', 'pres', 'vu', 'huitième', 'douze', 'eux-mêmes', 'plus', 'au', 'nous', 'durant', 'me', 'ouste', 'ton', 'jusque', 'trente', 'malgre', 'elle-même', 'té', 'ci', 'comme', 'autres', 'pourrais', 'retour', 'celle-ci', 'moi', \"qu'\", \"j'\", 'allons', 'encore', 'unes', 'tenant', 'celui-la', 'quelle', 'puisque', 'hui', 'tant', 'i', 'rendre', 'hem', 'quiconque', 'reste', 'ceux-là', 'sa', 'troisième', 'feront', 'es', 'antérieure', 'ceci', 'prealable', 'cette', 'préalable', 'donc', 'suffisante', 'suivant', 'différent', 'sera', 'certaine', 'lui-meme', 'tels', 'voila', 'telle', \"l'\", 'selon', 'tenir', 'toutes', 'apres', 'toute', 'chez', 'quelques', 'suis', 'outre', 'deuxièmement', 'peuvent', 'autrui', 'comment', 'cent', 'pas', 'ses', 'nôtre', 'revoila', 'tienne', 'merci', 'differente', 'doivent', 'restant', 'être', 'relativement', 'malgré', 'semblaient', \"t'\", 'leur', 'vos', 'mêmes', 'anterieures', 'certain', 'proche', 'depuis', 'enfin', \"d'\", 'ceux-ci', 'duquel', 'serait', 'egalement', 'stop', 'pendant', 'ho', 'toi', 'soixante', 'concernant', 'surtout', 'peux', 'vous-mêmes', 'quatrième', 'as', 'etait', 'diverses', 'cependant', 'sauf', 'souvent', 'nombreux', 'dite', 'ès', 'ouvert', 'mais', 'certes', 'cinquantaine', 'est', 'tiens', 'vers', 'dits', 'allaient', 'debout', 'qui', 'suivantes', 'maint', 'si', 'vont', 'étais', 'en', 'quatre', 'differents', 'hep', 'dans', 'des', 'pouvait', 'seul', 'quelque', 'certaines', 'avant', 'miens', 'votres', 'onzième', 'suffisant', 'uns', 'parce', 'désormais', 'hormis', 'seulement', 'près', 'également', 'que', 'cet', 'quelconque', 'te', 'soi', 'vingt', 'tres', 'moins', 'suivante', 'tel', 'pu', 'déja', 'douzième', 'auxquels', 'ni', 'nôtres', 'lors', 'là', 'cinquante', 'combien', 'desormais', 'revoilà', 'c’', 'mille', 'eu', 'afin', 'auquel', 'envers', 'avoir', 'celles-là', 'tiennes', 'celui-là', 'tente', 'sait', 'trois', 'même', 's’', 'ouias', 'seuls', 'restent', 'relative', 'sent', 'quoique', 'semblent', 'pourrait', 'qu’', 'na', 'tellement', 'par', 'sans', 'da', 'facon', 'hé', 'après', 'celui-ci', 'compris', 'dès', 'plutot', 'different', 'aussi', 'lui', 'deja', 'quels', 'via', 'parmi', 'celles-ci', 'va', 'parle', 'la', 'déjà'} 507\n"
     ]
    }
   ],
   "source": [
    "nlp = spacy.load(\"fr_core_news_md\")\n",
    "stopwords = nlp.Defaults.stop_words\n",
    "print(stopwords, len(stopwords))"
   ]
  },
  {
   "cell_type": "code",
   "execution_count": 125,
   "metadata": {},
   "outputs": [
    {
     "name": "stdout",
     "output_type": "stream",
     "text": [
      "que\n"
     ]
    }
   ],
   "source": [
    "word = \"que\"\n",
    "if word in stopwords:\n",
    "    print(word)\n"
   ]
  },
  {
   "cell_type": "markdown",
   "metadata": {},
   "source": [
    "##### Text preprocessiong functions"
   ]
  },
  {
   "cell_type": "code",
   "execution_count": 133,
   "metadata": {},
   "outputs": [],
   "source": [
    "#lowercase function:\n",
    "def lowercase(text):\n",
    "    return(text.lower())\n",
    "\n",
    "#remove number:\n",
    "def remove_number(text):\n",
    "    result = re.sub(r\"\\d+\", \"\", text)\n",
    "    return result\n",
    "\n",
    "#convert number to text:\n",
    "def number_to_text(text):\n",
    "    p = inflect.engine()\n",
    "    tempr = text.split()\n",
    "    new_str = []\n",
    "    for word in tempr:\n",
    "        if word.isdigit():\n",
    "            new_str.append(p.number_to_words(word))\n",
    "        else:\n",
    "            new_str.append(word)\n",
    "    return \" \".join(new_str)\n",
    "\n",
    "#remove punctuation:\n",
    "def remove_punctuation(text):\n",
    "    result = text.translate(str.maketrans(\"\",\"\", string.punctuation))\n",
    "    return result\n",
    "\n",
    "#remove whitespace:\n",
    "def remove_whitespace(text):\n",
    "    return \" \".join(text.split())\n",
    "\n",
    "#remove stopword:\n",
    "def remove_stopword(text):\n",
    "    doc = nlp(text)\n",
    "    new_str = []\n",
    "    for token in doc:\n",
    "        if token.text not in stopwords:\n",
    "            new_str.append(token.text)\n",
    "    return \" \".join(new_str)\n",
    "\n",
    "#lemmatization\n",
    "def lemmatization(text):\n",
    "    doc = nlp(text)\n",
    "    tokens = []\n",
    "    for token in doc:\n",
    "        tokens.append(token.lemma_)\n",
    "    return tokens\n",
    "\n",
    "#Pos\n",
    "def part_of_speech(text):\n",
    "    doc = nlp(text)\n",
    "    pos = []\n",
    "    for token in doc:\n",
    "        pos.append(token.pos_)\n",
    "    return pos\n",
    "\n",
    "#NER\n",
    "def name_entities_reco(text):\n",
    "    doc = nlp(text)\n",
    "    ents = [ent.label_ for ent in list(doc.ents)]\n",
    "    return ents\n",
    "\n",
    "#get the vocabulary and remove some common values\n",
    "def get_vocabs(text):\n",
    "    vocabs = list(set(lemmatization(remove_whitespace(remove_punctuation(text)))))\n",
    "    commons = {'problème', \"support\", \"équipe\",  \"appeler\", \"urgent\", \"urgente\"\n",
    "               \"appel\", \"technique\", \"cordialement\", \"bonjour\", \"appelant\", \"heure\",\n",
    "               \"client\", \"message\", \"ticket\", \"demande\", \"cours\", \"oui\", \"non\", \n",
    "               }\n",
    "    for common in commons:\n",
    "        if common in vocabs:\n",
    "            vocabs.remove(common)\n",
    "    return vocabs\n",
    "\n",
    "#remove client details:\n",
    "def remove_client_detail(text):\n",
    "    result = re.sub(r\"client\\W:.+\", \"\", text, re.IGNORECASE)\n",
    "    result = re.sub(r\"nom\\W.+\", \"\", result, re.IGNORECASE)\n",
    "    result = re.sub(r\"(tel|tél).\\W+\\d+.+\", \"\", result, re.IGNORECASE)\n",
    "    result = re.sub(r\"contrat.\\W+.\\d.+\", \"\", result, re.IGNORECASE)\n",
    "    result = re.sub(r\"n.+.ticket\\W+.\\d.+\", \"\", result, re.IGNORECASE)\n",
    "    return result\n",
    "    \n",
    "#remove accent:\n",
    "def strip_accent(text):\n",
    "    return ''.join(c for c in unicodedata.normalize('NFD', text) if unicodedata.category(c) != \"Mn\")\n",
    "\n",
    "#preprocessing\n",
    "def text_preprocessing(text):\n",
    "    text = remove_stopword(remove_client_detail(text.lower()))\n",
    "    text = remove_whitespace(remove_commons(remove_punctuation(text)))\n",
    "    text = lemmatization(remove_number(text))\n",
    "    return \" \".join(text)\n",
    "\n",
    "#remove commons words\n",
    "def remove_commons(text):\n",
    "    temp = list(set(lemmatization(text)))\n",
    "    new_str = []\n",
    "    commons = {'problème', \"support\", \"équipe\",  \"appeler\", \"urgent\", \"urgente\",\n",
    "               \"appel\", \"technique\", \"cordialement\", \"bonjour\", \"appelant\", \"heure\",\n",
    "               \"client\", \"message\", \"ticket\", \"demande\", \"cours\", \"oui\", \"non\", \n",
    "               }\n",
    "    for txt in temp:\n",
    "        if txt not in commons:\n",
    "            new_str.append(txt)\n",
    "    return \" \".join(new_str)"
   ]
  },
  {
   "cell_type": "code",
   "execution_count": 120,
   "metadata": {},
   "outputs": [],
   "source": [
    "#def get the similarity table\n",
    "def cosinesimilarity(a,b):\n",
    "    return np.dot(a,b)/np.sqrt(a.dot(a)*b.dot(b))\n",
    "\n",
    "def find_similarity(reference, texts):\n",
    "    doc = nlp(reference)\n",
    "    doc_vector = doc.vector\n",
    "    doc_similarity = []\n",
    "    text_docs = [nlp(text) for text in texts]\n",
    "    text_vectors = [txt.vector for txt in text_docs]\n",
    "    vec_mean = np.array(text_vectors).mean(axis=0)\n",
    "    centered = doc_vector - vec_mean\n",
    "    for idx, text_vec in enumerate(text_vectors):\n",
    "        doc_similarity.append((idx, \n",
    "                               cosinesimilarity(text_vec - vec_mean, \n",
    "                                                centered)))\n",
    "    return doc_similarity"
   ]
  },
  {
   "cell_type": "code",
   "execution_count": 134,
   "metadata": {},
   "outputs": [],
   "source": [
    "text = text_preprocessing(data[\"ticket-content\"].iloc[1])\n",
    "texts = [text_preprocessing(txt) for txt in data[\"ticket-content\"].values]\n",
    "similarity = find_similarity(text, texts)\n"
   ]
  },
  {
   "cell_type": "code",
   "execution_count": 135,
   "metadata": {},
   "outputs": [
    {
     "name": "stdout",
     "output_type": "stream",
     "text": [
      "[(1, 1.0), (232, 0.60959584), (230, 0.43202293), (131, 0.39362422), (10, 0.3887379), (194, 0.34976435), (315, 0.32132047), (130, 0.3180608), (450, 0.30532607), (283, 0.2889058), (359, 0.23192109), (233, 0.22994743), (227, 0.22655982), (471, 0.22062579), (32, 0.21623531), (203, 0.21421933), (58, 0.21346518), (306, 0.2128298), (184, 0.21206528), (216, 0.21129969), (257, 0.20647795), (456, 0.19879891), (278, 0.19789284), (314, 0.19627705), (22, 0.19415954), (190, 0.19398019), (316, 0.19355226), (238, 0.18668239), (111, 0.18056732), (443, 0.17792359), (31, 0.1773072), (223, 0.17639096), (341, 0.17261513), (208, 0.17060411), (23, 0.16964887), (358, 0.16795674), (329, 0.16382751), (89, 0.16347761), (90, 0.16115086), (209, 0.1583166), (141, 0.15646741), (77, 0.15602441), (195, 0.15345939), (69, 0.15287603), (338, 0.14733559), (4, 0.14677386), (243, 0.14541799), (274, 0.14446346)]\n"
     ]
    }
   ],
   "source": [
    "similarity.sort(key=lambda x:x[1], reverse=True)\n",
    "print(similarity[:48])"
   ]
  },
  {
   "cell_type": "code",
   "execution_count": 136,
   "metadata": {},
   "outputs": [
    {
     "name": "stdout",
     "output_type": "stream",
     "text": [
      "forme connexion plat\n",
      "dysfonctionne vpn Monsieur connexion\n"
     ]
    }
   ],
   "source": [
    "print(texts[1])\n",
    "print(texts[96])"
   ]
  },
  {
   "cell_type": "code",
   "execution_count": 137,
   "metadata": {},
   "outputs": [
    {
     "name": "stdout",
     "output_type": "stream",
     "text": [
      "Bonjour.\n",
      "             \n",
      "             Nom : khairallah Roy Tél. : 06.73.53.74.51\n",
      "    Contrat :     24h/24 - 7j/7  N° ticket : 14361682\n",
      "     Message     : Ticket en cours: Non Demande\n",
      "    urgente: Non      Monsieur appelle car il a un problème\n",
      "    de connexion avec sa     message Son VPN dysfonctionne    \n",
      "         Cordialement,L'équipe support..\n"
     ]
    }
   ],
   "source": [
    "text_232 = data[\"ticket-content\"].iloc[96]\n",
    "print(text_232)"
   ]
  },
  {
   "cell_type": "code",
   "execution_count": 218,
   "metadata": {},
   "outputs": [
    {
     "name": "stdout",
     "output_type": "stream",
     "text": [
      "['plat', 'forme', 'connexion']\n"
     ]
    }
   ],
   "source": [
    "text = data[\"ticket-content\"].iloc[1]\n",
    "vocabs = get_vocabs(remove_number(remove_whitespace(remove_punctuation(remove_stopword(remove_client_detail(text.lower()))))))\n",
    "print(vocabs)"
   ]
  },
  {
   "cell_type": "code",
   "execution_count": 126,
   "metadata": {},
   "outputs": [
    {
     "name": "stdout",
     "output_type": "stream",
     "text": [
      "[('transmettre', 391), ('gestioncontactelfr', 390), ('descriptif', 390), ('gestion', 390), ('origin', 389), ('body', 387), ('cababcabcdgroupehisifr', 386), ('e-mail', 384), ('tentative', 278), ('cest', 248), ('site', 121), ('présent', 119), ('base', 111), ('tentativ', 108), ('donner', 101), ('souhaite', 79), ('mail', 52), ('connecter', 47), ('efi', 44), ('arrive', 42), ('n', 42), ('Monsieur', 42), ('electricfil', 41), ('rappeler', 38), ('e', 38), ('d', 36), ('j', 36), ('passer', 36), ('bloquer', 36), ('compte', 34), ('connexion', 33), ('mot', 33), ('serveur', 32), ('joindre', 32), ('impossible', 31), ('accès', 31), ('ordinateur', 28), ('contrat', 28), ('fonctionne', 27), ('besoin', 27), ('advisory', 27), ('dc', 27), ('sidaction', 27), ('logiciel', 25), ('être', 24), ('faire', 23), ('pc', 22), ('boite', 22), ('sefreco', 22), ('sujet', 21), ('envoyer', 20), ('recevoir', 20), ('cerba', 20), ('donnée', 20), ('fenwick', 20), ('cabinet', 18), ('vpn', 18), ('mettre', 18), ('suite', 18), ('email', 17), ('outlook', 17), ('relance', 17), ('mme', 17), ('intervention', 17), ('accéder', 17), ('mr', 16), ('m', 16), ('distance', 15), ('session', 15), ('l', 15), ('rappel', 15), ('souci', 14), ('réseau', 14), ('fichier', 14), ('technicien', 14), ('prendre', 14), ('numéro', 14), ('am', 13), ('investment', 13), ('amnyo', 13), ('signale', 12), ('code', 12), ('verita', 12), ('portable', 12), ('hier', 11), ('s', 11), ('ouvrir', 11), ('jour', 11), ('niveau', 11), ('indique', 11), ('recontacter', 11), ('service', 11), ('messagerie', 10), ('installer', 10), ('erreur', 10), ('machine', 10), ('société', 10), ('revenir', 10), ('verrouiller', 10), ('partner', 10), ('synerciel', 10), ('matin', 10), ('internet', 9), ('attendre', 9), ('co', 9), ('informatique', 9), ('mobiwir', 9), ('application', 9), ('changer', 9), ('adresse', 9), ('savoir', 9), ('devoir', 9), ('conseil', 9), ('bas', 9), ('etat', 9), ('redémarrer', 8), ('pann', 8), ('hisi', 8), ('falloir', 8), ('dossier', 8), ('associat', 8), ('callisto', 8), ('alerte', 7), ('écran', 7), ('imprimer', 7), ('créer', 7), ('rapidement', 7), ('joignable', 7), ('pari', 7), ('sandra', 7), ('moussafir', 7), ('disque', 7), ('réf', 7), ('bloquée', 7), ('comptabilité', 7), ('arsla', 7), ('conception', 7), ('korder', 7), ('urgence', 6), ('nguyen', 6), ('parvenir', 6), ('prise', 6), ('perdre', 6), ('aide', 6), ('rien', 6), ('main', 6), ('microsoft', 6), ('excel', 6), ('télétravail', 6), ('nouveau', 6), ('cherche', 6), ('mohamed', 6), ('que', 5), ('avoir', 5), ('document', 5), ('redémarrage', 5), ('rencontre', 5), ('affiche', 5), ('système', 5), ('répondre', 5), ('citrix', 5), ('imprimant', 5), ('carte', 5), ('siriu', 5), ('vouloir', 5), ('associate', 5), ('téléphone', 5), ('dernier', 5), ('bloque', 5), ('baussant', 5), ('programme', 5), ('openlab', 5), ('travailler', 5), ('point', 5), ('production', 5), ('fonctionner', 5), ('sylvain', 5), ('facture', 5), ('supportstd', 4), ('flasher', 4), ('vivien', 4), ('exploit', 4), ('portail', 4), ('objet', 4), ('sit', 4), ('collègue', 4), ('ligne', 4), ('groupe', 4), ('ricardo', 4), ('utiliser', 4), ('exploithisifrvnguyenhisifr', 4), ('planter', 4), ('scan', 4), ('hs', 4), ('précise', 4), ('souhaiter', 4), ('dell', 4), ('semaine', 4), ('actuellement', 4), ('fnadepa', 4), ('aucun', 4), ('assistance', 4), ('demain', 4), ('accè', 4), ('marier', 4), ('christine', 4), ('tentativer', 4), ('manipulation', 4), ('lancer', 4), ('poste', 4), ('mecachrome', 4), ('emilien', 4), ('travail', 4), ('part', 4), ('association', 4), ('probleme', 4), ('neuf', 4), ('bureau', 4), ('marcher', 4), ('stagiaire', 4), ('contact', 4), ('dimitri', 3), ('soir', 3), ('vérifier', 3), ('récu', 3), ('imprimante', 3), ('sortir', 3), ('expirer', 3), ('essayer', 3), ('qu', 3), ('droit', 3), ('lorsqu', 3), ('mm', 3), ('acce', 3), ('administrateur', 3), ('front', 3), ('guillaume', 3), ('juin', 3), ('dev', 3), ('paramétrage', 3), ('désire', 3), ('arriver', 3), ('arrêter', 3), ('oublier', 3), ('millimètre', 3), ('salle', 3), ('signal', 3), ('paname', 3), ('course', 3), ('pistolet', 3), ('ciel', 3), ('commercial', 3), ('confirmation', 3), ('sauvegarde', 3), ('hh', 3), ('stock', 3), ('cession', 3), ('ouverture', 3), ('solution', 3), ('clé', 3), ('externe', 3), ('dur', 3), ('pb', 3), ('cgo', 3), ('patrimoine', 3), ('gautier', 3), ('ey', 3), ('road', 3), ('philippe', 3), ('agir', 3), ('envoi', 3), ('réinstaller', 3), ('professionnel', 3), ('visio', 3), ('résoudre', 3), ('tqc', 3), ('directskill', 3), ('minute', 3), ('quelqu', 3), ('juan', 3), ('allume', 3), ('nuit', 3), ('avocat', 3), ('largo', 3), ('communication', 3), ('fin', 3), ('fnadeper', 3), ('partir', 3), ('réception', 3), ('christophe', 3), ('venir', 3), ('place', 3), ('correspondre', 3), ('amso', 3), ('oxylead', 3), ('sigma', 3), ('responsable', 3), ('sharepoint', 3), ('h', 3), ('information', 3), ('particulier', 3), ('abdelkader', 3), ('intervenir', 2), ('forme', 2), ('plat', 2), ('automatique', 2), ('midi', 2), ('figé', 2), ('uniquement', 2), ('concerne', 2), ('eurveillier', 2), ('pm', 2), ('magasin', 2), ('impression', 2), ('éditer', 2), ('recu', 2), ('effectuer', 2), ('idyll', 2), ('sombretequip', 2), ('domaine', 2), ('icone', 2), ('favori', 2), ('miette', 2), ('virtual', 2), ('host', 2), ('exploithisifr', 2), ('théoservice', 2), ('vendredi', 2), ('viviennguyengroupehisifr', 2), ('fernande', 2), ('equipe', 2), ('ip', 2), ('interne', 2), ('web', 2), ('dautr', 2), ('vm', 2), ('marche', 2), ('tech', 2), ('revenon', 2), ('wifi', 2), ('étiquette', 2), ('préparation', 2), ('cadre', 2), ('moment', 2), ('safari', 2), ('partenair', 2), ('rendre', 2), ('rapport', 2), ('ecran', 2), ('noir', 2), ('principal', 2), ('apparaître', 2), ('partager', 2), ('appelantclier', 2), ('mpl', 2), ('collaborateur', 2), ('référencer', 2), ('administratif', 2), ('routeur', 2), ('traiter', 2), ('débloquer', 2), ('incorrect', 2), ('bug', 2), ('frederiqu', 2), ('reprendre', 2), ('récupération', 2), ('début', 2), ('ordi', 2), ('rater', 2), ('bruno', 2), ('imp', 2), ('plein', 2), ('imck', 2), ('tim', 2), ('corrompre', 2), ('signaler', 2), ('import', 2), ('full', 2), ('défaut', 2), ('console', 2), ('migration', 2), ('sm', 2), ('bleu', 2), ('toner', 2), ('atelier', 2), ('beyond', 2), ('héberger', 2), ('maintenance', 2), ('installation', 2), ('center', 2), ('scanner', 2), ('conner', 2), ('pro', 2), ('exchange', 2), ('pierre', 2), ('identifiant', 2), ('window', 2), ('caméra', 2), ('réunion', 2), ('vacance', 2), ('valdeb', 2), ('ratp', 2), ('sécurité', 2), ('récupérer', 2), ('transférer', 2), ('double', 2), ('authentification', 2), ('fixe', 2), ('paramétrer', 2), ('modifier', 2), ('relier', 2), ('saisir', 2), ('verrouillée', 2), ('couper', 2), ('tenter', 2), ('suivre', 2), ('traitement', 2), ('data', 2), ('oracl', 2), ('agraf', 2), ('modification', 2), ('alga', 2), ('test', 2), ('fois', 2), ('mauvais', 2), ('çà', 2), ('sauter', 2), ('partie', 2), ('team', 2), ('muriel', 2), ('prévoir', 2), ('connecte', 2), ('vite', 2), ('journée', 2), ('événement', 2), ('evenement', 2), ('ismael', 2), ('medical', 2), ('romain', 2), ('interentreprises', 2), ('personn', 2), ('sandrin', 2), ('premium', 2), ('cosfibel', 2), ('entreprise', 2), ('erp', 2), ('ficod', 2), ('redémarre', 2), ('saturer', 2), ('csav', 2), ('psu', 2), ('bcfw', 2), ('ar', 2), ('voir', 2), ('arcad', 2), ('beauty', 2), ('courcelaud', 2), ('régler', 2), ('supprimer', 2), ('communiquer', 2), ('cliford', 2), ('rencontrer', 2), ('port', 2), ('investissement', 2), ('cas', 2), ('lecteur', 2), ('trouve', 2), ('exclamation', 2), ('régulièrement', 2), ('désactive', 2), ('phonétique', 2), ('télé', 2), ('temps', 2), ('umr', 2), ('désir', 2), ('clôturer', 2), ('info', 2), ('lydia', 2), ('récurrent', 2), ('arrow', 2), ('srci', 2), ('econovia', 2), ('bonin', 2), ('nathalie', 2), ('courtin', 2), ('cnbf', 2), ('it', 2), ('attente', 2), ('rachat', 2), ('directeur', 2), ('rh', 2), ('échange', 2), ('travaille', 2), ('allumer', 1), ('problèmesxd', 1), ('anthonyservice', 1), ('ibi', 1), ('ralentir', 1), ('avertir', 1), ('migeot', 1), ('fantôme', 1), ('anthony', 1), ('box', 1), ('dépuis', 1), ('priorité', 1), ('absolu', 1), ('etiquette', 1), ('tracabilite', 1), ('techniqueaucun', 1), ('essefi', 1), ('halim', 1), ('problèm', 1), ('trompe', 1), ('techniquel', 1), ('to', 1), ('july', 1), ('wednesday', 1), ('subject', 1), ('transport', 1), ('titre', 1), ('snhisiefiautomotivecom', 1), ('hoche', 1), ('dire', 1), ('janvier', 1), ('réponse', 1), ('samedi', 1), ('contacter', 1), ('connectermessage', 1), ('saturday', 1), ('january', 1), ('contrôleur', 1), ('léa', 1), ('cichowlas', 1), ('concerrner', 1), ('paie', 1), ('icône', 1), ('payer', 1), ('francisco', 1), ('inc', 1), ('litaud', 1), ('rentrer', 1), ('link', 1), ('ralentissement', 1), ('latifa', 1), ('philibert', 1), ('of', 1), ('courant', 1), ('ts', 1), ('inquiét', 1), ('encre', 1), ('perrier', 1), ('liaison', 1), ('group', 1), ('date', 1), ('imprimanteil', 1), ('boronen', 1), ('oonnexion', 1), ('apport', 1), ('dysfonctionn', 1), ('renouveler', 1), ('impk', 1), ('astreinte', 1), ('min', 1), ('edeal', 1), ('poulard', 1), ('istologi', 1), ('prélèvement', 1), ('jolly', 1), ('maxim', 1), ('reconnaître', 1), ('caractère', 1), ('long', 1), ('refermer', 1), ('absence', 1), ('photo', 1), ('profil', 1), ('tél', 1), ('arrivez', 1), ('recrutement', 1), ('mai', 1), ('anouarservice', 1), ('packoffice', 1), ('difficulté', 1), ('capital', 1), ('dariu', 1), ('electrifil', 1), ('frl', 1), ('tokem', 1), ('moutaillier', 1), ('aurelie', 1), ('explorer', 1), ('cilaé', 1), ('mobiwire', 1), ('calendrier', 1), ('cfi', 1), ('démarrer', 1), ('bastien', 1), ('jeauffroy', 1), ('février', 1), ('impôt', 1), ('mercredi', 1), ('configuration', 1), ('forti', 1), ('réimplanter', 1), ('astreindre', 1), ('log', 1), ('ifocop', 1), ('jet', 1), ('cowflow', 1), ('contactel', 1), ('skype', 1), ('note', 1), ('pin', 1), ('ensemble', 1), ('meyer', 1), ('trouver', 1), ('tromper', 1), ('routeurtout', 1), ('restaurer', 1), ('produit', 1), ('traçabilité', 1), ('relation', 1), ('votr', 1), ('préciser', 1), ('epost', 1), ('étiqueter', 1), ('imprime', 1), ('dysfonctionne', 1), ('thales', 1), ('renseignement', 1), ('frank', 1), ('solari', 1), ('cornaton', 1), ('automotiv', 1), ('tonner', 1), ('carreno', 1), ('simon', 1), ('lire', 1), ('chiffre', 1), ('alexandrin', 1), ('pernet', 1), ('bloquéscordialement', 1), ('z', 1), ('saturation', 1), ('connaitre', 1), ('delpharm', 1), ('tarif', 1), ('coupure', 1), ('f', 1), ('quia', 1), ('astrei', 1), ('eer', 1), ('rds', 1), ('feelserv', 1), ('dreamwar', 1), ('hacker', 1), ('inquiéter', 1), ('roser', 1), ('godard', 1), ('wagner', 1), ('florence', 1), ('tristan', 1), ('tourner', 1), ('vide', 1), ('fontaine', 1), ('mmj', 1), ('talan', 1), ('foutet', 1), ('pascal', 1), ('partage', 1), ('woospeakwebexcom', 1), ('woospeak', 1), ('formation', 1), ('réseal', 1), ('accée', 1), ('informe', 1), ('corianc', 1), ('asa', 1), ('allée', 1), ('bienvenue', 1), ('youcef', 1), ('onduleur', 1), ('ghoulab', 1), ('benoit', 1), ('plafond', 1), ('augmente', 1), ('derouin', 1), ('échec', 1), ('commander', 1), ('rx', 1), ('messag', 1), ('couet', 1), ('charlotte', 1), ('requérir', 1), ('iphon', 1), ('belgiqu', 1), ('iffecy', 1), ('vyve', 1), ('constater', 1), ('terminer', 1), ('plante', 1), ('deco', 1), ('quantum', 1), ('virtuel', 1), ('moyen', 1), ('bischheim', 1), ('aujourdhui', 1), ('lyon', 1), ('ui', 1), ('tombe', 1), ('standard', 1), ('informaticien', 1), ('aujourdh', 1), ('korda', 1), ('auprès', 1), ('mess', 1), ('acheter', 1), ('aprèsmidi', 1), ('clôtur', 1), ('eye', 1), ('dsk', 1), ('fish', 1), ('bénédicte', 1), ('fournisseur', 1), ('technologie', 1), ('hp', 1), ('offrir', 1), ('françois', 1), ('acbd', 1), ('disparaître', 1), ('renseigner', 1), ('bugue', 1), ('post', 1), ('usine', 1), ('arrêt', 1), ('march', 1), ('risque', 1), ('jean', 1), ('claude', 1), ('référence', 1), ('equinoxe', 1), ('bout', 1), ('hprim', 1), ('enregistrement', 1), ('débloque', 1), ('buge', 1), ('authentifier', 1), ('régularisation', 1), ('lier', 1), ('anouar', 1), ('lecture', 1), ('biotlocker', 1), ('excell', 1), ('autorisation', 1), ('clef', 1), ('pièce', 1), ('usb', 1), ('aimer', 1), ('zoom', 1), ('in', 1), ('installe', 1), ('plug', 1), ('personnel', 1), ('demander', 1), ('vidéo', 1), ('acrobat', 1), ('synertial', 1), ('contrôle', 1), ('said', 1), ('ritm', 1), ('rapide', 1), ('disponibilité', 1), ('disfonctionn', 1), ('arslan', 1), ('chenut', 1), ('shar', 1), ('raccourci', 1), ('amnyos', 1), ('mohammed', 1), ('amrh', 1), ('eyesroad', 1), ('accessible', 1), ('ticketing', 1), ('interfacer', 1), ('sud', 1), ('edbadm', 1), ('centre', 1), ('nmml', 1), ('série', 1), ('accord', 1), ('almavia', 1), ('fabien', 1), ('opération', 1), ('réinstallation', 1), ('muzeo', 1), ('exalide', 1), ('léger', 1), ('tenir', 1), ('livrer', 1), ('charge', 1), ('edouard', 1), ('priori', 1), ('méconter', 1), ('insulter', 1), ('sitrich', 1), ('constate', 1), ('entrer', 1), ('christin', 1), ('rebooter', 1), ('rue', 1), ('enregistre', 1), ('ouen', 1), ('st', 1), ('aumone', 1), ('laboratoir', 1), ('inconnu', 1), ('équerre', 1), ('tc', 1), ('chercher', 1), ('préférence', 1), ('snadepa', 1), ('forty', 1), ('clind', 1), ('remplir', 1), ('virginie', 1), ('bande', 1), ('milieu', 1), ('continu', 1), ('rouge', 1), ('wiever', 1), ('paquet', 1), ('isagi', 1), ('gramme', 1), ('smartphone', 1), ('maintenanc', 1), ('précision', 1), ('vincenn', 1), ('président', 1), ('extérieur', 1), ('compter', 1), ('mise', 1), ('isa', 1), ('cesser', 1), ('action', 1), ('effectif', 1), ('bien', 1), ('loge', 1), ('josa', 1), ('arnaud', 1), ('énormément', 1), ('il', 1), ('el', 1), ('hamad', 1), ('gros', 1), ('consulter', 1), ('fiche', 1), ('suiveur', 1), ('déverrouiller', 1), ('smadepa', 1), ('laboria', 1), ('frederic', 1), ('écrire', 1), ('pirater', 1), ('retrouve', 1), ('atol', 1), ('duchereozat', 1), ('opticien', 1), ('incident', 1), ('lent', 1), ('mobile', 1), ('hyper', 1), ('pcon', 1), ('pausé', 1), ('question', 1), ('echanger', 1), ('cherch', 1), ('joindr', 1), ('damour', 1), ('express', 1), ('dhl', 1), ('proposition', 1), ('adresser', 1), ('imprmant', 1), ('clifford', 1), ('cad', 1), ('viewer', 1), ('sfcc', 1), ('recommencer', 1), ('persist', 1), ('panoramix', 1), ('benjamin', 1), ('tetra', 1), ('brusque', 1), ('monter', 1), ('subir', 1), ('dater', 1), ('extraire', 1), ('archea', 1), ('credit', 1), ('mathieu', 1), ('mutuel', 1), ('arkea', 1), ('éjecter', 1), ('interface', 1), ('description', 1), ('nondemand', 1), ('réussir', 1), ('laurer', 1), ('dejeuner', 1), ('régliez', 1), ('avant', 1), ('conférence', 1), ('supervision', 1), ('sverp', 1), ('développement', 1), ('windo', 1), ('alban', 1), ('sauvegard', 1), ('firewall', 1), ('demarne', 1), ('mentionner', 1), ('malveillant', 1), ('boubacar', 1), ('cotation', 1), ('centralise', 1), ('daniell', 1), ('prolonger', 1), ('nécessaire', 1), ('muriell', 1), ('invitation', 1), ('présente', 1), ('annuler', 1), ('anglais', 1), ('trelephon', 1), ('arabimr', 1), ('laurence', 1), ('animé', 1), ('dépanner', 1), ('bluester', 1), ('normalement', 1), ('noacovitch', 1), ('rééquilibrer', 1), ('intégrateur', 1), ('taille', 1), ('placer', 1), ('vieillot', 1), ('téléchargement', 1), ('parviller', 1), ('appareil', 1), ('cossibel', 1), ('clim', 1), ('sandrine', 1), ('navigateur', 1), ('google', 1), ('changement', 1), ('camer', 1), ('figer', 1), ('boîte', 1), ('vérification', 1), ('informer', 1), ('statistique', 1), ('audrey', 1), ('antoine', 1), ('parvilla', 1), ('sollicite', 1), ('jennifer', 1), ('webcam', 1), ('explication', 1), ('catégorie', 1), ('complément', 1), ('salesforc', 1), ('yaam', 1), ('distanc', 1), ('alis', 1), ('manon', 1), ('mars', 1), ('rbt', 1), ('inadvertanc', 1), ('avril', 1), ('prepa', 1), ('pva', 1), ('jacquet', 1), ('tableau', 1), ('sobater', 1), ('bâtiment', 1), ('fusible', 1), ('b', 1), ('électricité', 1), ('congélateur', 1), ('tm', 1), ('réactiver', 1), ('casque', 1), ('entendre', 1), ('easy', 1), ('veriter', 1), ('pu', 1), ('fermer', 1), ('afficher', 1), ('partout', 1), ('sclérose', 1), ('amyotrophique', 1), ('indisponible', 1), ('latéral', 1), ('recherche', 1), ('confidentiel', 1), ('refuse', 1), ('pascale', 1), ('démarre', 1), ('débloqu', 1), ('japon', 1), ('suspect', 1), ('mailinblack', 1), ('spam', 1), ('stephane', 1), ('maj', 1), ('touche', 1), ('actif', 1), ('déverrouillé', 1), ('obliger', 1), ('urgenc', 1), ('stanisla', 1), ('mfadigalpacgrcom', 1), ('cgr', 1), ('lpa', 1), ('sagard', 1), ('symerciel', 1), ('daniel', 1), ('plombier', 1), ('wc', 1), ('diffusion', 1), ('liste', 1), ('ajouter', 1), ('retirer', 1), ('remettre', 1), ('er', 1), ('hydra', 1), ('ftp', 1), ('decopler', 1), ('sage', 1), ('décoplant', 1), ('mpravech', 1), ('nanterre', 1), ('cosnovier', 1), ('vavassori', 1), ('moji', 1), ('giovana', 1), ('synchronisation', 1), ('veroniqu', 1), ('indiquer', 1), ('autoriser', 1), ('réparation', 1), ('conflit', 1), ('perso', 1), ('commande', 1), ('lilia', 1), ('everne', 1), ('martin', 1), ('alexandrer', 1), ('saint', 1), ('rajouter', 1), ('chose', 1), ('creopoapps', 1), ('bry', 1), ('formulaire', 1), ('bachelet', 1), ('notilu', 1), ('présentation', 1), ('grattenoi', 1), ('katy', 1), ('aldo', 1), ('privilégier', 1), ('trust', 1), ('corp', 1), ('prospection', 1), ('yuzu', 1), ('alterner', 1), ('bosser', 1), ('courrier', 1), ('comptabilite', 1), ('ob', 1), ('montant', 1), ('désaccord', 1), ('gamero', 1), ('agora', 1), ('oracli', 1), ('request', 1), ('number', 1), ('flex', 1), ('paul', 1), ('eyveskembokdsexpertisecom', 1), ('calisto', 1), ('materiel', 1), ('usage', 1), ('weeedoit', 1), ('matériel', 1), ('do', 1), ('wee', 1), ('vue', 1), ('identification', 1), ('câble', 1), ('herport', 1), ('augmenter', 1), ('ster', 1), ('filserv', 1), ('ressource', 1), ('teamviewer', 1), ('oranger', 1), ('ici', 1), ('renouvellement', 1), ('energie', 1), ('lundi', 1), ('contentieux', 1), ('carla', 1), ('jérôme', 1), ('gedimat', 1), ('ged', 1), ('modul', 1), ('prevue', 1), ('monsieur', 1), ('cosibel', 1), ('obtenir', 1), ('vision', 1), ('hopiz', 1), ('rendezvou', 1), ('reseau', 1), ('chantier', 1), ('coupur', 1), ('huguette', 1), ('kassongo', 1), ('monsuieur', 1), ('donbner', 1), ('skill', 1), ('déblocage', 1), ('air', 1), ('argancy', 1), ('liquide', 1), ('station', 1), ('allumage', 1), ('congé', 1), ('réinitialisation', 1), ('mère', 1), ('prestataire', 1), ('natacha', 1), ('apé', 1), ('nibeli', 1), ('linkedin', 1), ('récent', 1), ('reccuperation', 1), ('enregistrer', 1), ('firefo', 1), ('hay', 1), ('rose', 1), ('bellan', 1), ('esi', 1), ('ambassadeur', 1), ('perin', 1), ('petit', 1), ('thierry', 1), ('ancien', 1), ('pdf', 1), ('googl', 1), ('format', 1), ('nomination', 1), ('valerie', 1), ('mmr', 1), ('éclaircir', 1), ('technicienl', 1), ('baie', 1), ('londre', 1), ('griller', 1), ('éteindre', 1), ('rallumer', 1), ('nassim', 1), ('beynost', 1), ('chargement', 1), ('salarier', 1), ('teams', 1), ('clavier', 1), ('synergie', 1), ('tom', 1), ('francais', 1), ('compagnie', 1), ('erroné', 1), ('postuler', 1), ('livraison', 1), ('recontacte', 1), ('bon', 1), ('traiding', 1), ('seulesxdxdrier', 1), ('beaucoup', 1), ('bubl', 1), ('pop', 1), ('utilise', 1), ('fenêtre', 1), ('bonjourxdxddepui', 1), ('delphinexdxdcordialementxdl', 1), ('up', 1), ('block', 1), ('appelantxd', 1)]\n"
     ]
    }
   ],
   "source": [
    "texts = data[\"ticket-content\"].values\n",
    "vocabs = []\n",
    "for text in texts:\n",
    "    vocabs.extend(get_vocabs(text_preprocessing(text)))\n",
    "print(Counter(vocabs).most_common())"
   ]
  },
  {
   "cell_type": "code",
   "execution_count": 221,
   "metadata": {},
   "outputs": [
    {
     "name": "stdout",
     "output_type": "stream",
     "text": [
      "1206\n"
     ]
    }
   ],
   "source": [
    "print(len(vocabs))"
   ]
  },
  {
   "cell_type": "code",
   "execution_count": 234,
   "metadata": {},
   "outputs": [
    {
     "name": "stdout",
     "output_type": "stream",
     "text": [
      "['karin', 'onjour', 'Alaykoum']\n",
      "['Kappeler', 'sou\\xadve\\xadnir', 'Rulli']\n",
      "['èquipe', 'URAP', 'Deogratias']\n",
      "['capage', 'Socles', 'dosable']\n",
      "['urge', 'urgentissime', 'injonctif']\n",
      "['Lappel', 'l\"\\'Appel', 'dappels']\n",
      "['prblème', 'sous-problèmes', 'Probléme']\n",
      "['technique|', 'nanotechnologique', 'Psychotechnique']\n",
      "['.Cordialement', 'particuli?rement', 'talentueusement']\n"
     ]
    }
   ],
   "source": [
    "commons = {'problème', \"support\", \"équipe\",  \"appeler\", \"urgent\",\n",
    "               \"appel\", \"technique\", \"cordialement\", \"bonjour\"}\n",
    "for word_common in list(commons):\n",
    "    ms = nlp.vocab.vectors.most_similar(np.asarray([nlp.vocab.vectors[nlp.vocab.strings[word_common]]]), n=3)\n",
    "    words = [nlp.vocab.strings[w] for w in ms[0][0]]\n",
    "    print(words)"
   ]
  }
 ],
 "metadata": {
  "interpreter": {
   "hash": "c7b43f45bb1cd9a7c6d1d5e2719de1e29bdcb6a4563bea06a01fc2f2920baf16"
  },
  "kernelspec": {
   "display_name": "Python 3.10.1 64-bit",
   "language": "python",
   "name": "python3"
  },
  "language_info": {
   "codemirror_mode": {
    "name": "ipython",
    "version": 3
   },
   "file_extension": ".py",
   "mimetype": "text/x-python",
   "name": "python",
   "nbconvert_exporter": "python",
   "pygments_lexer": "ipython3",
   "version": "3.10.1"
  },
  "orig_nbformat": 4
 },
 "nbformat": 4,
 "nbformat_minor": 2
}
