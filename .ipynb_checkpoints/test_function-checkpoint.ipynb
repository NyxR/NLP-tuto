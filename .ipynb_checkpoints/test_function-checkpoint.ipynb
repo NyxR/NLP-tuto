{
 "cells": [
  {
   "cell_type": "code",
   "execution_count": 6,
   "id": "7cfe2240",
   "metadata": {},
   "outputs": [
    {
     "data": {
      "text/plain": [
       "0"
      ]
     },
     "execution_count": 6,
     "metadata": {},
     "output_type": "execute_result"
    }
   ],
   "source": [
    "int(False)"
   ]
  },
  {
   "cell_type": "code",
   "execution_count": 20,
   "id": "dd446249",
   "metadata": {},
   "outputs": [
    {
     "name": "stdout",
     "output_type": "stream",
     "text": [
      "Correct Prediction: [ True  True False False  True  True]\n",
      "Accuracy: 0.6666666666666666\n"
     ]
    }
   ],
   "source": [
    "import numpy as np\n",
    "\n",
    "prediction = np.array([True,False,False,False,True,False])\n",
    "true_class = [1,0,1,1,1,0]\n",
    "'''\n",
    "for i in range(len(prediction)):\n",
    "    if prediction[i] == true_class[i]:\n",
    "        correct_prediction.append(prediction[i])\n",
    "accuracy = len(correct_prediction)/len(prediction)\n",
    "print(\"Correct Prediction: {}\"\n",
    "      \"\\nAccuracy: {}\".format(correct_prediction, accuracy))\n",
    "'''\n",
    "correct_prediction = prediction == true_class\n",
    "accuracy = correct_prediction.mean()\n",
    "print(\"Correct Prediction: {}\"\n",
    "      \"\\nAccuracy: {}\".format(correct_prediction, accuracy))\n"
   ]
  },
  {
   "cell_type": "code",
   "execution_count": 18,
   "id": "beffc581",
   "metadata": {},
   "outputs": [
    {
     "name": "stdout",
     "output_type": "stream",
     "text": [
      "False\n"
     ]
    }
   ],
   "source": [
    "correct_prediction = prediction == true_class\n",
    "print(correct_prediction)"
   ]
  },
  {
   "cell_type": "code",
   "execution_count": 23,
   "id": "9514ee4e",
   "metadata": {},
   "outputs": [
    {
     "name": "stdout",
     "output_type": "stream",
     "text": [
      "[ 0.19207062  0.67880475 -0.74861576 -0.32581256]\n"
     ]
    }
   ],
   "source": [
    "rand = np.random.uniform(-1, 1, (4,))\n",
    "print(rand)"
   ]
  },
  {
   "cell_type": "code",
   "execution_count": 25,
   "id": "e2e1ba31",
   "metadata": {},
   "outputs": [],
   "source": [
    "import spacy\n",
    "from spacy.symbols import ORTH"
   ]
  },
  {
   "cell_type": "code",
   "execution_count": 35,
   "id": "b83160bf",
   "metadata": {},
   "outputs": [
    {
     "name": "stdout",
     "output_type": "stream",
     "text": [
      "['gimme', 'that']\n"
     ]
    }
   ],
   "source": [
    "nlp = spacy.load(\"en_core_web_sm\")\n",
    "doc = nlp(\"gimme that\")\n",
    "print([w.text for w in doc])"
   ]
  },
  {
   "cell_type": "code",
   "execution_count": 27,
   "id": "a9126c5a",
   "metadata": {},
   "outputs": [
    {
     "name": "stdout",
     "output_type": "stream",
     "text": [
      "['gim', 'me', 'that']\n"
     ]
    }
   ],
   "source": [
    "#define a special case\n",
    "special_case = [{ORTH: \"gim\"}, {ORTH: \"me\"}]\n",
    "nlp.tokenizer.add_special_case(\"gimme\", special_case)\n",
    "print([w.text for w in nlp(\"gimme that\")])"
   ]
  },
  {
   "cell_type": "code",
   "execution_count": 32,
   "id": "e63ad266",
   "metadata": {},
   "outputs": [
    {
     "name": "stdout",
     "output_type": "stream",
     "text": [
      "['I', 'live', 'in', 'New', 'York', 'City']\n"
     ]
    }
   ],
   "source": [
    "doc = nlp(\"I live in NewYorkCity\")\n",
    "with doc.retokenize() as retokenizer:\n",
    "    heads = [(doc[3], 0),(doc[3], 1),(doc[3], 2)]\n",
    "    retokenizer.split(doc[3], ['New', 'York', 'City'], heads=heads)\n",
    "print([token.text for token in doc])"
   ]
  },
  {
   "cell_type": "code",
   "execution_count": 36,
   "id": "21aaff0e",
   "metadata": {},
   "outputs": [
    {
     "name": "stdout",
     "output_type": "stream",
     "text": [
      "Before:  ['this is a sentence...', 'hello...and another sentence.']\n",
      "After:  ['this is a sentence...', 'hello...', 'and another sentence.']\n"
     ]
    }
   ],
   "source": [
    "from spacy.language import Language\n",
    "\n",
    "text = \"this is a sentence...hello...and another sentence.\"\n",
    "doc = nlp(text)\n",
    "print(\"Before: \", [sent.text for sent in doc.sents])\n",
    "\n",
    "@Language.component(\"set_custom_boundaries\")\n",
    "def set_custom_boundaries(doc):\n",
    "    for token in doc:\n",
    "        if token.text == \"...\":\n",
    "            doc[token.i+1].is_sent_start = True\n",
    "    return doc\n",
    "\n",
    "nlp.add_pipe(\"set_custom_boundaries\", before=\"parser\")\n",
    "doc = nlp(text)\n",
    "print(\"After: \", [sent.text for sent in doc.sents])"
   ]
  },
  {
   "cell_type": "code",
   "execution_count": 39,
   "id": "4cacb024",
   "metadata": {},
   "outputs": [
    {
     "name": "stdout",
     "output_type": "stream",
     "text": [
      "abcdefg True 7.4450955 False\n",
      "afskfsd False 0.0 True\n"
     ]
    }
   ],
   "source": [
    "nlp = spacy.load(\"en_core_web_md\")\n",
    "tokens = nlp(\"abcdefg afskfsd\")\n",
    "\n",
    "for token in tokens:\n",
    "    print(token.text, token.has_vector, token.vector_norm, token.is_oov)"
   ]
  },
  {
   "cell_type": "code",
   "execution_count": 43,
   "id": "e7937ff0",
   "metadata": {},
   "outputs": [
    {
     "name": "stdout",
     "output_type": "stream",
     "text": [
      "Hardware issue on my laptop <-> I have an issue on my laptop, i think it is about the hardware side Similarity: 0.846\n"
     ]
    }
   ],
   "source": [
    "nlp = spacy.load(\"en_core_web_md\")\n",
    "doc1 = nlp(\"Hardware issue on my laptop\")\n",
    "doc2 = nlp(\"I have an issue on my laptop, i think it is about the hardware side\")\n",
    "\n",
    "print(f\"{doc1.text} <-> {doc2.text} Similarity: {doc1.similarity(doc2):.3f}\")"
   ]
  },
  {
   "cell_type": "code",
   "execution_count": 47,
   "id": "6fbf7549",
   "metadata": {},
   "outputs": [],
   "source": [
    "import numpy as np\n",
    "import pandas as pd\n",
    "from sklearn.preprocessing import OneHotEncoder"
   ]
  },
  {
   "cell_type": "code",
   "execution_count": 53,
   "id": "cc16dfd0",
   "metadata": {},
   "outputs": [
    {
     "name": "stdout",
     "output_type": "stream",
     "text": [
      "token_docs:  [['i', 'cant', 'wait', 'to', 'get', 'out', 'of', 'lockdown'], ['the', 'uk', 'is', 'soon', 'going', 'to', 'be', 'free', 'soon'], ['linkedin', 'is', 'social', 'media']]\n",
      "all_tokens:  {'soon', 'linkedin', 'is', 'to', 'cant', 'out', 'of', 'uk', 'be', 'i', 'media', 'going', 'social', 'get', 'free', 'the', 'lockdown', 'wait'}\n",
      "word_to_idx {'soon': 1, 'linkedin': 2, 'is': 3, 'to': 4, 'cant': 5, 'out': 6, 'of': 7, 'uk': 8, 'be': 9, 'i': 10, 'media': 11, 'going': 12, 'social': 13, 'get': 14, 'free': 15, 'the': 16, 'lockdown': 17, 'wait': 18}\n",
      "\n",
      "token_idx:  [list([10, 5, 18, 4, 14, 6, 7, 17]) list([16, 8, 3, 1, 12, 4, 9, 15, 1])\n",
      " list([2, 3, 13, 11])]\n"
     ]
    }
   ],
   "source": [
    "# define the documents\n",
    "corpus = [\"i cant wait to get out of lockdown\", \"the uk is soon going to be free soon\", \"linkedin is social media\"]\n",
    "\n",
    "#converting text to integer\n",
    "token_docs = [doc.split() for doc in corpus]\n",
    "all_tokens = set([word for sentence in token_docs for word in sentence])\n",
    "print(\"token_docs: \",token_docs)\n",
    "print(\"all_tokens: \",all_tokens)\n",
    "word_to_idx = {token:idx+1 for idx, token in enumerate(all_tokens)}\n",
    "print(\"word_to_idx\", word_to_idx)\n",
    "\n",
    "#converting the doc to their id\n",
    "token_idx = np.array([[word_to_idx[token] for token in token_doc] for token_doc in token_docs], dtype=object)\n",
    "print(\"\\ntoken_idx: \", token_idx)"
   ]
  },
  {
   "cell_type": "code",
   "execution_count": 54,
   "id": "11abe940",
   "metadata": {},
   "outputs": [
    {
     "ename": "ImportError",
     "evalue": "cannot import name 'CountVectorizer' from 'sklearn.feature_extraction' (C:\\Users\\n.ramanantsoa\\AppData\\Local\\Programs\\Python\\Python310\\lib\\site-packages\\sklearn\\feature_extraction\\__init__.py)",
     "output_type": "error",
     "traceback": [
      "\u001b[1;31m---------------------------------------------------------------------------\u001b[0m",
      "\u001b[1;31mImportError\u001b[0m                               Traceback (most recent call last)",
      "\u001b[1;32mC:\\Users\\NB2BC~1.RAM\\AppData\\Local\\Temp/ipykernel_8692/3276253329.py\u001b[0m in \u001b[0;36m<module>\u001b[1;34m\u001b[0m\n\u001b[0;32m      1\u001b[0m \u001b[1;32mimport\u001b[0m \u001b[0mpandas\u001b[0m \u001b[1;32mas\u001b[0m \u001b[0mpd\u001b[0m\u001b[1;33m\u001b[0m\u001b[1;33m\u001b[0m\u001b[0m\n\u001b[1;32m----> 2\u001b[1;33m \u001b[1;32mfrom\u001b[0m \u001b[0msklearn\u001b[0m\u001b[1;33m.\u001b[0m\u001b[0mfeature_extraction\u001b[0m \u001b[1;32mimport\u001b[0m \u001b[0mCountVectorizer\u001b[0m\u001b[1;33m\u001b[0m\u001b[1;33m\u001b[0m\u001b[0m\n\u001b[0m\u001b[0;32m      3\u001b[0m \u001b[1;33m\u001b[0m\u001b[0m\n\u001b[0;32m      4\u001b[0m \u001b[1;31m# define the documents\u001b[0m\u001b[1;33m\u001b[0m\u001b[1;33m\u001b[0m\u001b[0m\n\u001b[0;32m      5\u001b[0m \u001b[0mcorpus\u001b[0m \u001b[1;33m=\u001b[0m \u001b[1;33m[\u001b[0m\u001b[1;34m\"i cant wait to get out of lockdown\"\u001b[0m\u001b[1;33m,\u001b[0m \u001b[1;34m\"the uk is soon going to be free soon\"\u001b[0m\u001b[1;33m,\u001b[0m \u001b[1;34m\"linkedin is social media\"\u001b[0m\u001b[1;33m]\u001b[0m\u001b[1;33m\u001b[0m\u001b[1;33m\u001b[0m\u001b[0m\n",
      "\u001b[1;31mImportError\u001b[0m: cannot import name 'CountVectorizer' from 'sklearn.feature_extraction' (C:\\Users\\n.ramanantsoa\\AppData\\Local\\Programs\\Python\\Python310\\lib\\site-packages\\sklearn\\feature_extraction\\__init__.py)"
     ]
    }
   ],
   "source": [
    "import pandas as pd\n",
    "from sklearn.feature_extraction.text import CountVectorizer\n",
    "\n",
    "# define the documents\n",
    "corpus = [\"i cant wait to get out of lockdown\", \"the uk is soon going to be free soon\", \"linkedin is social media\"]\n",
    "\n",
    "# implement bow\n",
    "bow = CountVectorizer()\n",
    "bow.fit(corpus)\n",
    "X = bow.transform(corpus)\n",
    "X"
   ]
  }
 ],
 "metadata": {
  "kernelspec": {
   "display_name": "Python 3 (ipykernel)",
   "language": "python",
   "name": "python3"
  },
  "language_info": {
   "codemirror_mode": {
    "name": "ipython",
    "version": 3
   },
   "file_extension": ".py",
   "mimetype": "text/x-python",
   "name": "python",
   "nbconvert_exporter": "python",
   "pygments_lexer": "ipython3",
   "version": "3.10.1"
  }
 },
 "nbformat": 4,
 "nbformat_minor": 5
}
