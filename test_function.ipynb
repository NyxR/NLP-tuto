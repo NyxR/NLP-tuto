{
 "cells": [
  {
   "cell_type": "code",
   "execution_count": 6,
   "id": "55eb3370",
   "metadata": {},
   "outputs": [
    {
     "data": {
      "text/plain": [
       "0"
      ]
     },
     "execution_count": 6,
     "metadata": {},
     "output_type": "execute_result"
    }
   ],
   "source": [
    "int(False)"
   ]
  },
  {
   "cell_type": "code",
   "execution_count": 20,
   "id": "49b13a97",
   "metadata": {},
   "outputs": [
    {
     "name": "stdout",
     "output_type": "stream",
     "text": [
      "Correct Prediction: [ True  True False False  True  True]\n",
      "Accuracy: 0.6666666666666666\n"
     ]
    }
   ],
   "source": [
    "import numpy as np\n",
    "\n",
    "prediction = np.array([True,False,False,False,True,False])\n",
    "true_class = [1,0,1,1,1,0]\n",
    "'''\n",
    "for i in range(len(prediction)):\n",
    "    if prediction[i] == true_class[i]:\n",
    "        correct_prediction.append(prediction[i])\n",
    "accuracy = len(correct_prediction)/len(prediction)\n",
    "print(\"Correct Prediction: {}\"\n",
    "      \"\\nAccuracy: {}\".format(correct_prediction, accuracy))\n",
    "'''\n",
    "correct_prediction = prediction == true_class\n",
    "accuracy = correct_prediction.mean()\n",
    "print(\"Correct Prediction: {}\"\n",
    "      \"\\nAccuracy: {}\".format(correct_prediction, accuracy))\n"
   ]
  },
  {
   "cell_type": "code",
   "execution_count": 18,
   "id": "6ebcfd62",
   "metadata": {},
   "outputs": [
    {
     "name": "stdout",
     "output_type": "stream",
     "text": [
      "False\n"
     ]
    }
   ],
   "source": [
    "correct_prediction = prediction == true_class\n",
    "print(correct_prediction)"
   ]
  },
  {
   "cell_type": "code",
   "execution_count": 23,
   "id": "7db10ec6",
   "metadata": {},
   "outputs": [
    {
     "name": "stdout",
     "output_type": "stream",
     "text": [
      "[ 0.19207062  0.67880475 -0.74861576 -0.32581256]\n"
     ]
    }
   ],
   "source": [
    "rand = np.random.uniform(-1, 1, (4,))\n",
    "print(rand)"
   ]
  },
  {
   "cell_type": "code",
   "execution_count": 25,
   "id": "26612ba9",
   "metadata": {},
   "outputs": [],
   "source": [
    "import spacy\n",
    "from spacy.symbols import ORTH"
   ]
  },
  {
   "cell_type": "code",
   "execution_count": 35,
   "id": "721956bb",
   "metadata": {},
   "outputs": [
    {
     "name": "stdout",
     "output_type": "stream",
     "text": [
      "['gimme', 'that']\n"
     ]
    }
   ],
   "source": [
    "nlp = spacy.load(\"en_core_web_sm\")\n",
    "doc = nlp(\"gimme that\")\n",
    "print([w.text for w in doc])"
   ]
  },
  {
   "cell_type": "code",
   "execution_count": 27,
   "id": "70e65669",
   "metadata": {},
   "outputs": [
    {
     "name": "stdout",
     "output_type": "stream",
     "text": [
      "['gim', 'me', 'that']\n"
     ]
    }
   ],
   "source": [
    "#define a special case\n",
    "special_case = [{ORTH: \"gim\"}, {ORTH: \"me\"}]\n",
    "nlp.tokenizer.add_special_case(\"gimme\", special_case)\n",
    "print([w.text for w in nlp(\"gimme that\")])"
   ]
  },
  {
   "cell_type": "code",
   "execution_count": 32,
   "id": "eeb67d35",
   "metadata": {},
   "outputs": [
    {
     "name": "stdout",
     "output_type": "stream",
     "text": [
      "['I', 'live', 'in', 'New', 'York', 'City']\n"
     ]
    }
   ],
   "source": [
    "doc = nlp(\"I live in NewYorkCity\")\n",
    "with doc.retokenize() as retokenizer:\n",
    "    heads = [(doc[3], 0),(doc[3], 1),(doc[3], 2)]\n",
    "    retokenizer.split(doc[3], ['New', 'York', 'City'], heads=heads)\n",
    "print([token.text for token in doc])"
   ]
  },
  {
   "cell_type": "code",
   "execution_count": 36,
   "id": "32464f77",
   "metadata": {},
   "outputs": [
    {
     "name": "stdout",
     "output_type": "stream",
     "text": [
      "Before:  ['this is a sentence...', 'hello...and another sentence.']\n",
      "After:  ['this is a sentence...', 'hello...', 'and another sentence.']\n"
     ]
    }
   ],
   "source": [
    "from spacy.language import Language\n",
    "\n",
    "text = \"this is a sentence...hello...and another sentence.\"\n",
    "doc = nlp(text)\n",
    "print(\"Before: \", [sent.text for sent in doc.sents])\n",
    "\n",
    "@Language.component(\"set_custom_boundaries\")\n",
    "def set_custom_boundaries(doc):\n",
    "    for token in doc:\n",
    "        if token.text == \"...\":\n",
    "            doc[token.i+1].is_sent_start = True\n",
    "    return doc\n",
    "\n",
    "nlp.add_pipe(\"set_custom_boundaries\", before=\"parser\")\n",
    "doc = nlp(text)\n",
    "print(\"After: \", [sent.text for sent in doc.sents])"
   ]
  },
  {
   "cell_type": "code",
   "execution_count": 39,
   "id": "7181304d",
   "metadata": {},
   "outputs": [
    {
     "name": "stdout",
     "output_type": "stream",
     "text": [
      "abcdefg True 7.4450955 False\n",
      "afskfsd False 0.0 True\n"
     ]
    }
   ],
   "source": [
    "nlp = spacy.load(\"en_core_web_md\")\n",
    "tokens = nlp(\"abcdefg afskfsd\")\n",
    "\n",
    "for token in tokens:\n",
    "    print(token.text, token.has_vector, token.vector_norm, token.is_oov)"
   ]
  },
  {
   "cell_type": "code",
   "execution_count": 43,
   "id": "07c6e87b",
   "metadata": {},
   "outputs": [
    {
     "name": "stdout",
     "output_type": "stream",
     "text": [
      "Hardware issue on my laptop <-> I have an issue on my laptop, i think it is about the hardware side Similarity: 0.846\n"
     ]
    }
   ],
   "source": [
    "nlp = spacy.load(\"en_core_web_md\")\n",
    "doc1 = nlp(\"Hardware issue on my laptop\")\n",
    "doc2 = nlp(\"I have an issue on my laptop, i think it is about the hardware side\")\n",
    "\n",
    "print(f\"{doc1.text} <-> {doc2.text} Similarity: {doc1.similarity(doc2):.3f}\")"
   ]
  },
  {
   "cell_type": "code",
   "execution_count": 47,
   "id": "4daad51d",
   "metadata": {},
   "outputs": [],
   "source": [
    "import numpy as np\n",
    "import pandas as pd\n",
    "from sklearn.preprocessing import OneHotEncoder"
   ]
  },
  {
   "cell_type": "code",
   "execution_count": 53,
   "id": "d6ef074d",
   "metadata": {},
   "outputs": [
    {
     "name": "stdout",
     "output_type": "stream",
     "text": [
      "token_docs:  [['i', 'cant', 'wait', 'to', 'get', 'out', 'of', 'lockdown'], ['the', 'uk', 'is', 'soon', 'going', 'to', 'be', 'free', 'soon'], ['linkedin', 'is', 'social', 'media']]\n",
      "all_tokens:  {'soon', 'linkedin', 'is', 'to', 'cant', 'out', 'of', 'uk', 'be', 'i', 'media', 'going', 'social', 'get', 'free', 'the', 'lockdown', 'wait'}\n",
      "word_to_idx {'soon': 1, 'linkedin': 2, 'is': 3, 'to': 4, 'cant': 5, 'out': 6, 'of': 7, 'uk': 8, 'be': 9, 'i': 10, 'media': 11, 'going': 12, 'social': 13, 'get': 14, 'free': 15, 'the': 16, 'lockdown': 17, 'wait': 18}\n",
      "\n",
      "token_idx:  [list([10, 5, 18, 4, 14, 6, 7, 17]) list([16, 8, 3, 1, 12, 4, 9, 15, 1])\n",
      " list([2, 3, 13, 11])]\n"
     ]
    }
   ],
   "source": [
    "# define the documents\n",
    "corpus = [\"i cant wait to get out of lockdown\", \"the uk is soon going to be free soon\", \"linkedin is social media\"]\n",
    "\n",
    "#converting text to integer\n",
    "token_docs = [doc.split() for doc in corpus]\n",
    "all_tokens = set([word for sentence in token_docs for word in sentence])\n",
    "print(\"token_docs: \",token_docs)\n",
    "print(\"all_tokens: \",all_tokens)\n",
    "word_to_idx = {token:idx+1 for idx, token in enumerate(all_tokens)}\n",
    "print(\"word_to_idx\", word_to_idx)\n",
    "\n",
    "#converting the doc to their id\n",
    "token_idx = np.array([[word_to_idx[token] for token in token_doc] for token_doc in token_docs], dtype=object)\n",
    "print(\"\\ntoken_idx: \", token_idx)"
   ]
  },
  {
   "cell_type": "markdown",
   "id": "c6bcb448",
   "metadata": {},
   "source": [
    "#### Bag of Word (BoW)"
   ]
  },
  {
   "cell_type": "code",
   "execution_count": 70,
   "id": "a425af1d",
   "metadata": {},
   "outputs": [
    {
     "name": "stdout",
     "output_type": "stream",
     "text": [
      "  (0, 1)\t1\n",
      "  (0, 3)\t1\n",
      "  (0, 7)\t1\n",
      "  (0, 9)\t1\n",
      "  (0, 10)\t1\n",
      "  (0, 14)\t1\n",
      "  (0, 16)\t1\n",
      "  (1, 0)\t1\n",
      "  (1, 2)\t1\n",
      "  (1, 4)\t1\n",
      "  (1, 5)\t1\n",
      "  (1, 12)\t2\n",
      "  (1, 13)\t1\n",
      "  (1, 14)\t1\n",
      "  (1, 15)\t1\n",
      "  (2, 5)\t1\n",
      "  (2, 6)\t1\n",
      "  (2, 8)\t1\n",
      "  (2, 11)\t1 [[0 1 0 1 0 0 0 1 0 1 1 0 0 0 1 0 1]\n",
      " [1 0 1 0 1 1 0 0 0 0 0 0 2 1 1 1 0]\n",
      " [0 0 0 0 0 1 1 0 1 0 0 1 0 0 0 0 0]]\n"
     ]
    }
   ],
   "source": [
    "import pandas as pd\n",
    "from sklearn.feature_extraction.text import CountVectorizer\n",
    "\n",
    "# define the documents\n",
    "corpus = [\"I cant wait to get out of lockdown\", \"the uk is soon going to be free soon\", \"linkedin is social media\"]\n",
    "\n",
    "# implement bow\n",
    "bow = CountVectorizer()\n",
    "bow.fit(corpus)\n",
    "X = bow.transform(corpus)\n",
    "\n",
    "# convert X to df\n",
    "print(X, X.toarray())"
   ]
  },
  {
   "cell_type": "code",
   "execution_count": 71,
   "id": "d50c245d",
   "metadata": {},
   "outputs": [
    {
     "name": "stdout",
     "output_type": "stream",
     "text": [
      "  (0, 1)\t1\n",
      "  (0, 16)\t1\n",
      "  (0, 14)\t1\n",
      "  (0, 3)\t1\n",
      "  (0, 10)\t1\n",
      "  (0, 9)\t1\n",
      "  (0, 7)\t1\n",
      "  (1, 14)\t1\n",
      "  (1, 13)\t1\n",
      "  (1, 15)\t1\n",
      "  (1, 5)\t1\n",
      "  (1, 12)\t2\n",
      "  (1, 4)\t1\n",
      "  (1, 0)\t1\n",
      "  (1, 2)\t1\n",
      "  (2, 5)\t1\n",
      "  (2, 6)\t1\n",
      "  (2, 11)\t1\n",
      "  (2, 8)\t1\n"
     ]
    }
   ],
   "source": [
    "X_train = bow.fit_transform(corpus)\n",
    "print(X_train)"
   ]
  },
  {
   "cell_type": "code",
   "execution_count": 85,
   "id": "8b1e0ec6",
   "metadata": {},
   "outputs": [
    {
     "name": "stdout",
     "output_type": "stream",
     "text": [
      "{'likes': 2, 'John': 1, 'to': 1, 'watch': 1, 'movies.': 1, 'Mary': 1, 'movies': 1, 'too.': 1}\n"
     ]
    }
   ],
   "source": [
    "from collections import Counter\n",
    "words = ['John', 'likes', 'to', 'watch', 'movies.', 'Mary', 'likes', 'movies', 'too.']\n",
    "counts = Counter(words).most_common()\n",
    "X = {}\n",
    "for item in counts:\n",
    "    for i in range(len(item)-1):\n",
    "        X[item[i]] = item[i+1]\n",
    "print(X)\n"
   ]
  },
  {
   "cell_type": "code",
   "execution_count": 86,
   "id": "5dfe8bb8",
   "metadata": {},
   "outputs": [
    {
     "data": {
      "text/plain": [
       "10"
      ]
     },
     "execution_count": 86,
     "metadata": {},
     "output_type": "execute_result"
    }
   ],
   "source": [
    "len({\"John\":2,\"likes\":3,\"to\":2,\"watch\":2,\"movies\":2,\"Mary\":1,\"too\":1,  \"also\":1,\"football\":1,\"games\":1})"
   ]
  },
  {
   "cell_type": "markdown",
   "id": "d9c8f064",
   "metadata": {},
   "source": [
    "##### BOW freecodecamp"
   ]
  },
  {
   "cell_type": "code",
   "execution_count": 34,
   "id": "c88f3800",
   "metadata": {},
   "outputs": [],
   "source": [
    "import nltk\n",
    "import numpy as np\n",
    "from nltk.corpus import stopwords\n",
    "from nltk.tokenize import word_tokenize"
   ]
  },
  {
   "cell_type": "code",
   "execution_count": 42,
   "id": "9453251d",
   "metadata": {},
   "outputs": [],
   "source": [
    "def word_extraction(text):\n",
    "    stop_words = set(stopwords.words(\"english\"))\n",
    "    word_tokens = word_tokenize(text.lower())\n",
    "    filtered_word = [word for word in word_tokens if word not in stop_words]\n",
    "    return filtered_word\n",
    "\n",
    "def tokenize_all(texts):\n",
    "    words = []\n",
    "    for text in texts:\n",
    "        words.extend(word_extraction(text))\n",
    "    return sorted(list(set(words)))\n",
    "\n",
    "def generate_bow(texts):\n",
    "    vocab = tokenize_all(texts)\n",
    "    bags = {}\n",
    "    for index, text in enumerate(texts):\n",
    "        bag = np.zeros(len(vocab))\n",
    "        words = word_extraction(text)\n",
    "        for w in words:\n",
    "            for idx, word in enumerate(vocab):\n",
    "                if word == w:\n",
    "                    bag[idx] +=1\n",
    "        bags[index] = bag\n",
    "    return bags"
   ]
  },
  {
   "cell_type": "code",
   "execution_count": 43,
   "id": "82a94c15",
   "metadata": {},
   "outputs": [
    {
     "name": "stdout",
     "output_type": "stream",
     "text": [
      "{0: array([0., 0., 0., 1., 0., 0., 0., 0., 0., 0., 0., 1., 1.]), 1: array([0., 0., 0., 0., 1., 0., 0., 0., 0., 0., 0., 1., 0.]), 2: array([0., 1., 0., 0., 0., 0., 1., 0., 1., 0., 1., 0., 0.]), 3: array([0., 1., 0., 0., 0., 1., 1., 0., 1., 1., 0., 0., 0.]), 4: array([1., 2., 1., 0., 0., 0., 1., 1., 1., 1., 0., 0., 1.])}\n"
     ]
    }
   ],
   "source": [
    "texts = [\"Joe waited for the train\", \"The train was late\", \"Mary and Samantha took the bus\",\n",
    "         \"I looked for Mary and Samantha at the bus station\",\n",
    "         \"Mary and Samantha arrived at the bus station early but waited until noon for the bus\"]\n",
    "words = generate_bow(texts)\n",
    "print(words)"
   ]
  },
  {
   "cell_type": "markdown",
   "id": "d9e69c85",
   "metadata": {},
   "source": [
    "##### N-grams"
   ]
  },
  {
   "cell_type": "code",
   "execution_count": 52,
   "id": "0243fc24",
   "metadata": {},
   "outputs": [
    {
     "name": "stdout",
     "output_type": "stream",
     "text": [
      "[['The', 'sun', 'rise', 'east'], ['sun', 'rise', 'east'], ['rise', 'east']]\n",
      "[('The', 'sun', 'rise'), ('sun', 'rise', 'east')]\n"
     ]
    }
   ],
   "source": [
    "a = [\"The\",\"sun\",\"rise\", \"east\"]\n",
    "temp = [a[i:] for i in range(0,3)]\n",
    "temps = zip(*temp) # *list = unpack the list\n",
    "print(temp)\n",
    "print(list(temps))"
   ]
  }
 ],
 "metadata": {
  "kernelspec": {
   "display_name": "Python 3 (ipykernel)",
   "language": "python",
   "name": "python3"
  },
  "language_info": {
   "codemirror_mode": {
    "name": "ipython",
    "version": 3
   },
   "file_extension": ".py",
   "mimetype": "text/x-python",
   "name": "python",
   "nbconvert_exporter": "python",
   "pygments_lexer": "ipython3",
   "version": "3.10.1"
  }
 },
 "nbformat": 4,
 "nbformat_minor": 5
}
